{
  "nbformat": 4,
  "nbformat_minor": 0,
  "metadata": {
    "colab": {
      "provenance": [],
      "collapsed_sections": [
        "adz0I5iIslJU",
        "GvbYMMpOspeF",
        "pR8dqSqhurym",
        "G1ZItBdFsrpV",
        "mvpOxQh-suDn",
        "vgnDguxfswcI",
        "QM_YUmmAszvP",
        "-CXL5ZlTs20w",
        "kOa5iKNDs5Le",
        "auZ8qazOtFA_",
        "ZfOfB7JvtJaP"
      ]
    },
    "kernelspec": {
      "name": "python3",
      "display_name": "Python 3"
    },
    "language_info": {
      "name": "python"
    }
  },
  "cells": [
    {
      "cell_type": "markdown",
      "source": [
        "#Prova Coding Tank iFood"
      ],
      "metadata": {
        "id": "aD6pE3oIqmKH"
      }
    },
    {
      "cell_type": "markdown",
      "source": [
        "#1) Considere o seguinte trecho de código, parte de um sistema de entrega de alimentos por aplicativo:\n",
        "\n",
        "i = input('Digite o número da casa: ')\n",
        "Caso o usuário digite na caixa de texto de entrada o valor 142, qual será o tipo de dado da variável i?\n",
        "\n",
        "a) int\n",
        "\n",
        "b) str\n",
        "\n",
        "c) float\n",
        "\n",
        "d) bool\n",
        "\n",
        "e) list"
      ],
      "metadata": {
        "id": "adz0I5iIslJU"
      }
    },
    {
      "cell_type": "code",
      "execution_count": null,
      "metadata": {
        "colab": {
          "base_uri": "https://localhost:8080/"
        },
        "id": "GlQ1k3LIdfWx",
        "outputId": "02646a5b-1466-4fe0-c77c-629911edbca1"
      },
      "outputs": [
        {
          "output_type": "stream",
          "name": "stdout",
          "text": [
            "Digite o número da casa: 142\n",
            "<class 'str'>\n"
          ]
        }
      ],
      "source": [
        "#Input que nos foi dado no anunciado acima\n",
        "i = input('Digite o número da casa: ')\n",
        "#conferindo o tipo de dado que foi armazenado na váriavel i\n",
        "print(type(i))\n",
        "#str"
      ]
    },
    {
      "cell_type": "markdown",
      "source": [
        "##Resposta letra:\n",
        "##B) Str"
      ],
      "metadata": {
        "id": "7TbOMN7Ft6lB"
      }
    },
    {
      "cell_type": "markdown",
      "source": [
        "#2) Você precisa implementar um código em Python que calcula o preço total de uma compra, dado o preço unitário de um dado produto (armazenado na variável preco) e a quantidade de unidades compradas (armazenado na variável quantidade). Assuma que temos apenas um único produto comprado. Assinale a alternativa que corretamente implementa este procedimento:\n",
        "\n",
        "a) preco_total = quantidade *= preco\n",
        "\n",
        "b) preco_total = quantidade * preco\n",
        "\n",
        "c) preco_total = quantidade += preco\n",
        "\n",
        "d) preco_total = quantidade / preco\n",
        "\n",
        "e) nda\n"
      ],
      "metadata": {
        "id": "GvbYMMpOspeF"
      }
    },
    {
      "cell_type": "code",
      "source": [
        "#Input para dizermos qual o preço unitário, colocado valor float por que o valor pode ser 0.99 e etc...\n",
        "preco = float(input('Digite o preço unitário: '))\n",
        "#Input para para a quantidade, colocado como int por que quantidade é inteiro\n",
        "quantidade = int(input('Digite a quantidade de produtos comprados: '))\n",
        "#calculo do preço total que é quantidade de produtos vezes o preço do produto\n",
        "preco_total = quantidade * preco\n",
        "#valor total\n",
        "print(preco_total)"
      ],
      "metadata": {
        "colab": {
          "base_uri": "https://localhost:8080/"
        },
        "id": "jby51-ClsrW7",
        "outputId": "5c9c6e00-5208-43cc-847b-2da95f596cb8"
      },
      "execution_count": null,
      "outputs": [
        {
          "output_type": "stream",
          "name": "stdout",
          "text": [
            "Digite o preço unitário: 150\n",
            "Digite a quantidade de produtos comprados: 1\n",
            "150.0\n"
          ]
        }
      ]
    },
    {
      "cell_type": "markdown",
      "source": [
        "##Resposta letra:\n",
        "##B) preco_total = quantidade * preco"
      ],
      "metadata": {
        "id": "pR8dqSqhurym"
      }
    },
    {
      "cell_type": "markdown",
      "source": [
        "#3) Na variável restaurantes_ano temos uma lista de listas, em que cada elemento é uma lista de dois elementos, em que o primeiro é o nome de um restaurante cadastrado na plataforma de delivery, e o segundo é o ano em que o cadastro foi realizado. Você deseja criar uma nova lista de listas, em que cada elemento é uma lista de dois elementos, sendo o primeiro o nome do restaurante (como é na lista original), e o segundo é o número de anos em que o restaurante está cadastrado na plataforma (considere que o ano atual é 2023). Qual das alternativas a seguir corretamente completa o trecho de código iniciado abaixo, para corretamente construir a lista desejada?\n",
        "\n",
        "restaurantes_idade = []\n",
        "\n",
        "for lista in restaurantes_ano:\n",
        "\n",
        "    # o código da alternativa correta deve vir aqui\n",
        "Ao revisar este código, qual das alternativas a seguir produz o mesmo resultado?\n",
        "\n",
        "a) restaurantes_idade.append([lista[0], lista[1] - 2023])\n",
        "\n",
        "b) restaurantes_idade.append([lista[1], 2023 - lista[0]])\n",
        "\n",
        "c) restaurantes_idade.append([lista[1], lista[0] - 2023])\n",
        "\n",
        "d) restaurantes_idade.append([lista, 2023 - lista])\n",
        "\n",
        "e) restaurantes_idade.append([lista[0], 2023 - lista[1]])"
      ],
      "metadata": {
        "id": "G1ZItBdFsrpV"
      }
    },
    {
      "cell_type": "code",
      "source": [
        "#Criar uma lista inicial chamada restaurantes_ano com o primeiro o nome do restaurante(como é na lista original) e o segundo é o ano em que o restaurante foi cadastrado na plataforma\n",
        "restaurantes_ano = [[\"Restaurante da Terra\", 2019], [\"Restaurante Porcão\", 2020], [\"Restaurante iFood\", 2021], [\"Restaurante McDonald's\", 1950]]\n",
        "#Lista vazia para podermos fazer o calculo e depois salvarmos os valores nela\n",
        "restaurantes_idade = []\n",
        "#Vamos fazer um for para que ele passe pela lista e primeiro selecione o primeiro elemento da lista que seria o [0] que os valores são os nomes de restaurante\n",
        "#depois ele seleciona o segundo elemento da lista que seria o [1] e faz a conta que queremos que é nosso ano atual que é 2023 menos o valor que está na lista na segunda posição que seria a [1]\n",
        "#depois ele junta usando o append e salva na variavel restaurantes_idade\n",
        "for lista in restaurantes_ano:\n",
        "    restaurantes_idade.append([lista[0], 2023 - lista[1]])\n",
        "#Agora vamos printar e ver os calculos estão saindo corretamente\n",
        "print(restaurantes_idade)"
      ],
      "metadata": {
        "colab": {
          "base_uri": "https://localhost:8080/"
        },
        "id": "4RTxDq4Pst1i",
        "outputId": "7380c952-c7aa-4bce-a335-06f12580ed0b"
      },
      "execution_count": null,
      "outputs": [
        {
          "output_type": "stream",
          "name": "stdout",
          "text": [
            "[['Restaurante da Terra', 4], ['Restaurante Porcão', 3], ['Restaurante iFood', 2], [\"Restaurante McDonald's\", 73]]\n"
          ]
        }
      ]
    },
    {
      "cell_type": "markdown",
      "source": [
        "##Resposta letra:\n",
        "##E) restaurantes_idade.append([lista[0], 2023 - lista[1]])"
      ],
      "metadata": {
        "id": "ba_cI8MI0Ar5"
      }
    },
    {
      "cell_type": "markdown",
      "source": [
        "#4) Queremos criar uma lista para armazenar os preços dos produtos de determinado restaurante. Em qual das opções abaixo a variável precos_produtos não é uma lista?\n",
        "\n",
        "a) precos_produtos = []\n",
        "\n",
        "b) precos_produtos = list(\"1 2 3 4\")\n",
        "\n",
        "c) precos_produtos = (1, 1.5, 3.8)\n",
        "\n",
        "d) precos_produtos = [1, 2, 3, 4]\n",
        "\n",
        "e) precos_produtos = list()\n",
        "\n",
        "iFood"
      ],
      "metadata": {
        "id": "mvpOxQh-suDn"
      }
    },
    {
      "cell_type": "markdown",
      "source": [
        "a) precos_produtos = []"
      ],
      "metadata": {
        "id": "Q5KMmN381OKE"
      }
    },
    {
      "cell_type": "code",
      "source": [
        "#Vamos conferir o type para ver se é uma lista\n",
        "precos_produtos = []\n",
        "type(precos_produtos)"
      ],
      "metadata": {
        "colab": {
          "base_uri": "https://localhost:8080/"
        },
        "id": "HzCmGyblswPC",
        "outputId": "5ce1e2b9-704b-4e15-ae37-0b15606d2442"
      },
      "execution_count": null,
      "outputs": [
        {
          "output_type": "execute_result",
          "data": {
            "text/plain": [
              "list"
            ]
          },
          "metadata": {},
          "execution_count": 11
        }
      ]
    },
    {
      "cell_type": "markdown",
      "source": [
        "b) precos_produtos = list(\"1 2 3 4\")"
      ],
      "metadata": {
        "id": "sSKI5rVX1RJh"
      }
    },
    {
      "cell_type": "code",
      "source": [
        "#Vamos conferir o type para ver se é uma lista\n",
        "precos_produtos = list(\"1 2 3 4\")\n",
        "type(precos_produtos)"
      ],
      "metadata": {
        "colab": {
          "base_uri": "https://localhost:8080/"
        },
        "id": "oZgQ4U0v1MeT",
        "outputId": "1dc7ee2b-c875-48af-fb8d-3986e7b62e18"
      },
      "execution_count": null,
      "outputs": [
        {
          "output_type": "execute_result",
          "data": {
            "text/plain": [
              "list"
            ]
          },
          "metadata": {},
          "execution_count": 12
        }
      ]
    },
    {
      "cell_type": "markdown",
      "source": [
        "c) precos_produtos = (1, 1.5, 3.8)"
      ],
      "metadata": {
        "id": "eVi5kygm1UK9"
      }
    },
    {
      "cell_type": "code",
      "source": [
        "#Vamos conferir o type para ver se é uma lista\n",
        "precos_produtos = (1, 1.5, 3.8)\n",
        "type(precos_produtos)"
      ],
      "metadata": {
        "colab": {
          "base_uri": "https://localhost:8080/"
        },
        "id": "zCScQ7il1Vhi",
        "outputId": "968184a2-3b83-4e6a-c5a0-8aeb62ca753f"
      },
      "execution_count": null,
      "outputs": [
        {
          "output_type": "execute_result",
          "data": {
            "text/plain": [
              "tuple"
            ]
          },
          "metadata": {},
          "execution_count": 13
        }
      ]
    },
    {
      "cell_type": "markdown",
      "source": [
        "d) precos_produtos = [1, 2, 3, 4]"
      ],
      "metadata": {
        "id": "izaIDtJ61aqB"
      }
    },
    {
      "cell_type": "code",
      "source": [
        "#Vamos conferir o type para ver se é uma lista\n",
        "precos_produtos = [1, 2, 3, 4]\n",
        "type(precos_produtos)"
      ],
      "metadata": {
        "colab": {
          "base_uri": "https://localhost:8080/"
        },
        "id": "piGdnE1T1a7w",
        "outputId": "47f0141f-32d8-4038-871c-b340d92a2c06"
      },
      "execution_count": null,
      "outputs": [
        {
          "output_type": "execute_result",
          "data": {
            "text/plain": [
              "list"
            ]
          },
          "metadata": {},
          "execution_count": 14
        }
      ]
    },
    {
      "cell_type": "markdown",
      "source": [
        "e) precos_produtos = list()"
      ],
      "metadata": {
        "id": "wnh1QccV1bhA"
      }
    },
    {
      "cell_type": "code",
      "source": [
        "#Vamos conferir o type para ver se é uma lista\n",
        "precos_produtos = list()\n",
        "type(precos_produtos)"
      ],
      "metadata": {
        "colab": {
          "base_uri": "https://localhost:8080/"
        },
        "id": "C5UBj46L1b0v",
        "outputId": "d3d21c6a-e225-423b-90cd-c9962ff2880d"
      },
      "execution_count": null,
      "outputs": [
        {
          "output_type": "execute_result",
          "data": {
            "text/plain": [
              "list"
            ]
          },
          "metadata": {},
          "execution_count": 15
        }
      ]
    },
    {
      "cell_type": "markdown",
      "source": [
        "##Resposta letra que não é uma lista:\n",
        "##C) precos_produtos = (1, 1.5, 3.8)\n",
        "##Pois precos_produtos = (1, 1.5, 3.8) é uma Tupla\n"
      ],
      "metadata": {
        "id": "Y8SI5Mv30jEk"
      }
    },
    {
      "cell_type": "markdown",
      "source": [
        "#5) Quando determinado entregador de um serviço de delivery atinge 100 entregas feitas, ele recebe uma gratificação, indicando que ele subiu de nível na plataforma de entregas. Enquanto este número não é alcançado, uma mensagem indicando quantas entregas ainda faltam é exibida na tela. Para implementar esta lógica, você começou criando o seguinte código:\n",
        "\n",
        "    num_entregas = 0\n",
        "    nivel = 0\n",
        "\n",
        "    while (num_entregas < 100):\n",
        "\n",
        "    print(f\"Faltam {100 - num_entregas} entregas para você mudar de nível!\")\n",
        "\n",
        "    # código da alternativa correta aqui\n",
        "\n",
        "    print(\"\\nVocê atingiu o próximo nível!\")\n",
        "    nivel = 1\n",
        "Assinale a alternativa que corretamente implementa a lógica desejada, substituindo o comentário no código acima:\n",
        "\n",
        "a) num_entregas += 1\n",
        "\n",
        "b) num_entregas = 100 - num_entregas\n",
        "\n",
        "c) num_entregas -= 1\n",
        "\n",
        "d) num_entregas = 100 + num_entregas\n",
        "\n",
        "e) num_entregas += 100"
      ],
      "metadata": {
        "id": "vgnDguxfswcI"
      }
    },
    {
      "cell_type": "code",
      "source": [
        "#numero de entregas\n",
        "num_entregas = 0\n",
        "#nivel do entregador\n",
        "nivel = 0\n",
        "#printe \"Faltam {100 - num_entregas} entregas para você mudar de nível!\" até o valor ser maior 100 e ai saimos do loop\n",
        "while (num_entregas < 100):\n",
        "    print(f\"Faltam {100 - num_entregas} entregas para você mudar de nível!\")\n",
        "    num_entregas += 1\n",
        "#printamos que ele atingiu o proximo nivel e subimos o nivel dele de 0 para 1\n",
        "print(\"\\nVocê atingiu o próximo nível!\")\n",
        "nivel = 1"
      ],
      "metadata": {
        "id": "xvxi-5e9szWe"
      },
      "execution_count": null,
      "outputs": []
    },
    {
      "cell_type": "markdown",
      "source": [
        "##Resposta é letra:\n",
        "##A) num_entregas += 1\n",
        "##pois estamos criando um contador dentro do loop while e esse contador toda vez que ele faz uma entrega a variável é incrementada em 1 até chegar a 100 entregas e ai vai sair do while e vai printar \"Você atingiu o próximo nível!\" e o nivel dele vai ser igual a 1 agora e não zero."
      ],
      "metadata": {
        "id": "tBBxbQhP25WU"
      }
    },
    {
      "cell_type": "markdown",
      "source": [
        "#6) Em um aplicativo de delivery, é muito importante que as entregas sejam feitas no menor tempo possível, para maior satisfação dos clientes. Pensando nisso, uma importante componente do sistema informacional de entregas deve calcular qual é o tempo estimado de entrega de um pedido, com base na distância entre o restaurante e o destino, e assumindo que o entregador viaja a uma velocidade constante de 50 km/h. Faça um código em Python que calcule o tempo de entrega em minutos, completando o template de código a seguir, na qual a distância em km deve ser informada pelo usuário:\n",
        "\n",
        "\n",
        "    velocidade = 50\n",
        "\n",
        "    distancia = # código para receber como input do usuário a distância em km\n",
        "\n",
        "    tempo = # código que implementa a lógica do cálculo do tempo, em minutos\n",
        "\n",
        "    print(f\"\\nO tempo estimado de entrega é de {tempo} minutos!\")\n",
        "\n",
        "Dica: o tempo necessário para percorrer uma dada distância à velocidade constante é dado pelo quociente entre a distância e a velocidade. Atenção às unidades!"
      ],
      "metadata": {
        "id": "QM_YUmmAszvP"
      }
    },
    {
      "cell_type": "code",
      "source": [
        "#velocidade constante de 50 km/h. Temos que ficar atento que está em horas e a questão pede \"calcule o tempo de entrega em minutos\" então precisamos converter para minutos\n",
        "velocidade = 50\n",
        "# código para receber como input do usuário a distância em km\n",
        "distancia = float(input(\"Digite a distancia percorrida em km: \"))\n",
        "# Primeiro vamos calcular KM/H que é  à velocidade constante que quociente entre a distância e a velocidade.\n",
        "tempo_em_horas = distancia / velocidade\n",
        "# Agora que já temos nos tempo_em_horas precisamos passar para minutos para sabermos o tempo estimado de entrega\n",
        "# então multiplicamos o tempo em horas por 60 para obter o tempo estimado de entrega em minutos\n",
        "tempo = tempo_em_horas * 60\n",
        "\n",
        "print(f\"\\nO tempo estimado de entrega é de {tempo} minutos!\")"
      ],
      "metadata": {
        "colab": {
          "base_uri": "https://localhost:8080/"
        },
        "id": "wBMFh6FTs1kc",
        "outputId": "7d83e1b4-6586-446e-e57b-e3fc0f895dc3"
      },
      "execution_count": null,
      "outputs": [
        {
          "output_type": "stream",
          "name": "stdout",
          "text": [
            "Digite a distancia percorrida em km: 60\n",
            "\n",
            "O tempo estimado de entrega é de 72.0 minutos!\n"
          ]
        }
      ]
    },
    {
      "cell_type": "markdown",
      "source": [
        "#7) Em um aplicativo de delivery, é importante que tenhamos um registro de todos os clientes que fazem pedidos em determinado restaurante, para que seja possível enviarmos cupons de desconto para os clientes que mais pedem, por exemplo.\n",
        "\n",
        "Para começar a prototipar esta funcionalidade no aplicativo, você deve criar um programa em Python que leia diversos números inteiros e insira todos em uma lista (esses números são os identificadores dos clientes). A cada solicitação de número, pergunte ao usuário se deseja inserir outro número: tendo como resposta 'S' para inserir mais um; ou 'N' caso queira terminar. É possível que o mesmo número seja digitado mais de uma vez (isso pode representar o mesmo cliente fazendo mais de um pedido). Após construir a lista, mostre:\n",
        "\n",
        "todos os números digitados na ordem em que foram inseridos\n",
        "\n",
        "todos os números digitados em ordem crescente\n",
        "\n",
        "a média destes valores\n",
        "\n",
        "apenas os números pares\n",
        "\n",
        "apenas os números ímpares\n",
        "\n",
        "apenas os números repetidos"
      ],
      "metadata": {
        "id": "-CXL5ZlTs20w"
      }
    },
    {
      "cell_type": "code",
      "source": [
        "# Criação das 4 listas vazias um para o ID (identificadores dos Clientes), uma para os numeros pares, outra para os numeros impares e uma última para os numeros repetidos\n",
        "clientes = []\n",
        "numeros_pares = []\n",
        "numeros_impares = []\n",
        "numeros_repetidos = []\n",
        "\n",
        "# Loop para ler os números dos clientes e podemos salvar na lista acima\n",
        "while True:\n",
        "    # Solicite ao usuário um ID e adicione-o à lista clientes acima\n",
        "    cliente = int(input(\"Digite o identificador do cliente: \"))\n",
        "    clientes.append(cliente)\n",
        "\n",
        "    # Pergunte ao usuário se deseja inserir outro número ou se ele deseja sair (caso ele aperte qualquer coisa diferente que S ele vai sair da operação)\n",
        "    continuar = input(\"Deseja inserir outro número se sim digite S? Caso deseje sair da operação Digite N: \").lower()\n",
        "    if continuar != 's':\n",
        "        break\n",
        "\n",
        "# Mostrar todos os números digitados na ordem em que foram inseridos\n",
        "print(\"Números digitados na ordem em que foram inseridos:\")\n",
        "print(clientes)\n",
        "\n",
        "# Mostrar todos os números digitados em ordem crescente\n",
        "clientes_ordenados = sorted(clientes)\n",
        "print(\"\\nNúmeros digitados em ordem crescente:\")\n",
        "print(clientes_ordenados)\n",
        "\n",
        "# Calcular a média dos valores que é o somátorio da váriavel clientes dividos pelo número de clientes\n",
        "media = sum(clientes) / len(clientes)\n",
        "print(f\"\\nMédia dos valores: {media:.2f}\")\n",
        "\n",
        "# Filtrar apenas os números pares e salvaremos na nossa lista vazia numeros_pares\n",
        "for num in clientes:\n",
        "    if num % 2 == 0:\n",
        "        numeros_pares.append(num)\n",
        "print(\"\\nNúmeros pares:\")\n",
        "print(numeros_pares)\n",
        "\n",
        "# Filtrar apenas os números ímpares e salvaremos na nossa lista vazia numeros_impares\n",
        "for num in clientes:\n",
        "    if num % 2 != 0:\n",
        "        numeros_impares.append(num)\n",
        "print(\"\\nNúmeros ímpares:\")\n",
        "print(numeros_impares)\n",
        "\n",
        "#Agora vamos encontrar os números repetidos e salvaremos na nossa lista vazia numeros_repetidos\n",
        "for num in clientes:\n",
        "    if clientes.count(num) > 1 and num not in numeros_repetidos:\n",
        "        numeros_repetidos.append(num)\n",
        "print(\"\\nNúmeros repetidos:\")\n",
        "print(numeros_repetidos)"
      ],
      "metadata": {
        "colab": {
          "base_uri": "https://localhost:8080/"
        },
        "id": "vf85YOrgs3kX",
        "outputId": "b2660fac-d51d-4fcb-8de1-69235aa9ddfc"
      },
      "execution_count": null,
      "outputs": [
        {
          "output_type": "stream",
          "name": "stdout",
          "text": [
            "Digite o identificador do cliente: 142\n",
            "Deseja inserir outro número se sim digite S? Caso deseje sair da operação Digite N: s\n",
            "Digite o identificador do cliente: 142\n",
            "Deseja inserir outro número se sim digite S? Caso deseje sair da operação Digite N: 100\n",
            "Números digitados na ordem em que foram inseridos:\n",
            "[142, 142]\n",
            "\n",
            "Números digitados em ordem crescente:\n",
            "[142, 142]\n",
            "\n",
            "Média dos valores: 142.00\n",
            "\n",
            "Números pares:\n",
            "[142, 142]\n",
            "\n",
            "Números ímpares:\n",
            "[]\n",
            "\n",
            "Números repetidos:\n",
            "[142]\n"
          ]
        }
      ]
    },
    {
      "cell_type": "markdown",
      "source": [
        "#8) Para que a entrega de alimentos seja feita com qualidade por um serviço de delivery, é muito importante que as caixas de transporte utilizadas por entregadores tenham um revestimento térmico interno, para manter a temperatura dos alimentos. Muitos destes revestimentos são importados de países que utilizam diferentes escalas de temperatura, de modo que as especificações quanto às temperaturas de operação podem gerar confusão.\n",
        "\n",
        "Pensando nisso, escreva um código em Python que recebe um número (que possa ter casas decimais) e a escala de temperatura em que este valor se encontra e para qual ele deseja converter (Celsius, Kelvin ou Fahrenheit). Tanto na escala em que se encontra quanto para a que deseja converter, utilize as letras iniciais como entrada: Celsius - 'C', Kelvin - 'K' ou Fahrenheit - 'F'.\n",
        "\n",
        "Seu código deve solicitar ao usuário as informações necessárias para realizar a conversão de temperatura (temperatura, escala_original, escala_convertida), de acordo com o template abaixo.\n",
        "\n",
        "\n",
        "    temperatura = # código para receber o valor numérico da temperatura desejada\n",
        "\n",
        "    escala_original = # código para receber a escala original da temperatura informada\n",
        "\n",
        "    escala_convertida = # código para receber a escala para a qual deseja-se converter a temperatura\n",
        "\n",
        "    implemente abaixo toda a lógica de conversão de temperaturas, bem como as validações necessárias\n",
        "Importante: o programa deve trabalhar apenas com as 3 escalas supracitadas! Então, não deixe de fazer as validações necessárias. Além disso, por definição, não existem temperaturas em Kelvin abaixo de zero (o valor zero pode existir), portanto verifique também esta condição para que sejam feitas conversões válidas!\n",
        "\n",
        "Dica: as equações de conversão entre as escalas são as seguintes:\n",
        "\n",
        "Celsius <> Fahrenheit:\n",
        "\n",
        "\\color{white}{\\frac{C}{5} = \\frac{F - 32}{9}}\n",
        "Celsius <> Kelvin:\n",
        "\n",
        "\\color{white}{C = K - 273}\n",
        "Kelvin <> Fahrenheit:\n",
        "\n",
        "\\color{white}{\\frac{K - 273}{5} = \\frac{F - 32}{9}}"
      ],
      "metadata": {
        "id": "kOa5iKNDs5Le"
      }
    },
    {
      "cell_type": "code",
      "source": [
        "# Solicitar ao usuário a temperatura\n",
        "temperatura = float(input(\"Digite a temperatura: \"))\n",
        "# Solicitar ao usuário em qual escala o dado está se está em Celsius, Kelvin ou Fahrenheit\n",
        "escala_original = input(\"Digite a escala original (C, K ou F): \").upper()\n",
        "# Solicitar ao usuário para qual escala desejamos converter se é Celsius, Kelvin ou Fahrenheit\n",
        "escala_convertida = input(\"Digite a escala para a qual deseja converter (C, K ou F): \").upper()\n",
        "\n",
        "# Validar as escalas, primeiro vamos ver se a escala_original é igual a escala_convertida\n",
        "if escala_original == escala_convertida:\n",
        "    # Se a escala original e a escala de conversão forem as mesmas, a temperatura permanece então printamos a temperatura que o usuario digitou\n",
        "    resultado = temperatura\n",
        "# Se a escala_original for igual a Celsius\n",
        "elif escala_original == 'C':\n",
        "    if escala_convertida == 'K':\n",
        "        # Converter de Celsius para Kelvin: Celsius + 273.15\n",
        "        resultado = temperatura + 273.15\n",
        "    elif escala_convertida == 'F':\n",
        "        # Converter de Celsius para Fahrenheit: (Celsius * 9/5) + 32\n",
        "        resultado = (temperatura * 9/5) + 32\n",
        "# Se a escala_original for igual a Kelvin\n",
        "elif escala_original == 'K':\n",
        "    if escala_convertida == 'C':\n",
        "        # Converter de Kelvin para Celsius: Kelvin - 273.15\n",
        "        resultado = temperatura - 273.15\n",
        "    elif escala_convertida == 'F':\n",
        "        # Converter de Kelvin para Fahrenheit: ((Kelvin - 273.15) * 9/5) + 32\n",
        "        resultado = ((temperatura - 273.15) * 9/5) + 32\n",
        "# Se a escala_original for igual a Fahrenheit\n",
        "elif escala_original == 'F':\n",
        "    if escala_convertida == 'C':\n",
        "        # Converter de Fahrenheit para Celsius: (Fahrenheit - 32) * 5/9\n",
        "        resultado = (temperatura - 32) * 5/9\n",
        "    elif escala_convertida == 'K':\n",
        "        # Converter de Fahrenheit para Kelvin: ((Fahrenheit - 32) * 5/9) + 273.15\n",
        "        resultado = ((temperatura - 32) * 5/9) + 273.15\n",
        "else:\n",
        "    resultado = \"Conversão não suportada\"\n",
        "\n",
        "# Agora exibiremos o resultado colocamos duas formas de print com int() e a outra caso o valor tenha '.'\n",
        "if resultado == int(resultado):\n",
        "    print(f\"A temperatura convertida é {int(resultado)} {escala_convertida}\")\n",
        "else:\n",
        "    print(f\"A temperatura convertida é {resultado:.2f} {escala_convertida}\")"
      ],
      "metadata": {
        "colab": {
          "base_uri": "https://localhost:8080/"
        },
        "id": "gIfFLrICs6eO",
        "outputId": "c886908d-4c25-45a3-bee3-acbb0f1e2eaf"
      },
      "execution_count": null,
      "outputs": [
        {
          "output_type": "stream",
          "name": "stdout",
          "text": [
            "Digite a temperatura: 60\n",
            "Digite a escala original (C, K ou F): C\n",
            "Digite a escala para a qual deseja converter (C, K ou F): k\n",
            "A temperatura convertida é 333.15 K\n"
          ]
        }
      ]
    },
    {
      "cell_type": "markdown",
      "source": [
        "#9) Um restaurante deseja saber quais são seus produtos mais vendidos em um aplicativo de delivery. Em uma lista, há registrados os nomes dos produtos, na ordem em que eles são vendidos (portanto, há elementos repetidos nesta lista). Faça um programa que exibe na tela cada um dos produtos na lista de input, e a quantidade em que eles foram vendidos (separados por um traço), de modo que teremos uma mensagem em cada linha. Os produtos devem ser exibidos em ordem alfabética.\n",
        "\n",
        "Ex.: para a lista produtos = [\"Hambúrguer\", \"Fritas\", \"Fritas\", \"Refrigerante\", \"Fritas\", \"Hambúrguer\"]\n",
        "\n",
        "Devemos ter as seguintes mensagens exibidas na tela:\n",
        "\n",
        "    Fritas - 3\n",
        "    Hambúrguer - 2\n",
        "    Refrigerante - 1"
      ],
      "metadata": {
        "id": "auZ8qazOtFA_"
      }
    },
    {
      "cell_type": "code",
      "source": [
        "# Vamos primeiramente criar a lista de produtos aonde vamos armazenar as variáveis que precisamos que foi dado acima\n",
        "# Ex.: para a lista produtos = [\"Hambúrguer\", \"Fritas\", \"Fritas\", \"Refrigerante\", \"Fritas\", \"Hambúrguer\"]\n",
        "produtos = [\"Hambúrguer\", \"Fritas\", \"Fritas\", \"Refrigerante\", \"Fritas\", \"Hambúrguer\"]\n",
        "\n",
        "# Criar uma lista vazia para nos armazenarmos os pares (produto, quantidade)\n",
        "pares_produto_quantidade = []\n",
        "\n",
        "# Contagem de vendas dos produtos\n",
        "for produto in produtos:\n",
        "    encontrado = False  # Inicialmente, assumimos que o produto não foi encontrado na lista de pares\n",
        "    for par in pares_produto_quantidade:\n",
        "        if par[0] == produto:  # Verificamos se o nome do produto já está na lista de pares que fica no elemento[0] que é produto\n",
        "            par[1] += 1  # Se encontrado, incrementamos a quantidade em 1 no elemento[1] da nossa lista\n",
        "            encontrado = True  # Caso o nosso produto seja encontrado\n",
        "            break  # Saímos do loop interno depois de encontrarmos o produto\n",
        "    if not encontrado:\n",
        "        # Se o produto não foi encontrado na lista de pares, adicionamos um novo par à lista\n",
        "        pares_produto_quantidade.append([produto, 1])  # Inicializamos a quantidade como 1, pois é a primeira venda\n",
        "\n",
        "# Ordenar a lista de pares em ordem alfabética\n",
        "pares_produto_quantidade.sort()\n",
        "\n",
        "# Exibir a quantidade de vendas para cada produto em ordem alfabética\n",
        "for par in pares_produto_quantidade:\n",
        "    produto, quantidade = par\n",
        "    print(f\"{produto} - {quantidade}\")\n"
      ],
      "metadata": {
        "colab": {
          "base_uri": "https://localhost:8080/"
        },
        "id": "4gvaC8QWKTaM",
        "outputId": "bae73099-53ae-41b0-f57f-5c1cdb3146f3"
      },
      "execution_count": null,
      "outputs": [
        {
          "output_type": "stream",
          "name": "stdout",
          "text": [
            "Fritas - 3\n",
            "Hambúrguer - 2\n",
            "Refrigerante - 1\n"
          ]
        }
      ]
    },
    {
      "cell_type": "markdown",
      "source": [
        "#10) Para bem distribuir os pedidos aos entregadores disponíveis, um aplicativo de delivery usa a seguinte regra:\n",
        "\n",
        "cada entregador deve entregar, em uma única corrida, no máximo 5 pedidos;\n",
        "as casas de destino que serão atribuídas a um mesmo entregador serão todas aquelas que estão a um raio de no máximo 10 km do restaurante, respeitando a regra anterior.\n",
        "Considere que como input do problema, recebemos uma lista em que cada elemento armazena a distância (de linha reta) em km entre a casa que fez o respectivo pedido e o restaurante. Faça um código que distribua estes pedidos a um dado entregador, seguindo as regras acima, de modo que a saída deve ser uma lista que contém os índices dos elementos da lista original que farão parte da corrida do entregador - considere que os primeiros elementos da lista têm prioridade."
      ],
      "metadata": {
        "id": "ZfOfB7JvtJaP"
      }
    },
    {
      "cell_type": "code",
      "source": [
        "distancias = [4, 7, 3, 2, 6, 8, 5, 9, 1, 3] # Distancias aleatorias criadas por mim com um raio de no maximo 10km\n",
        "entregadores = []  # Lista de entregadores, onde cada entregador é uma lista de índices de pedidos\n",
        "entregador_atual = []  # Lista temporária para armazenar os índices dos pedidos para o entregador atual\n",
        "distancia_acumulada = 0  # Variável para a distância acumulada\n",
        "indice_pedido = 0  # Variável para o índice do pedido\n",
        "\n",
        "while indice_pedido < len(distancias):\n",
        "    distancia = distancias[indice_pedido]\n",
        "\n",
        "    if distancia_acumulada + distancia <= 10 and len(entregador_atual) < 5:\n",
        "        # Adiciona o pedido ao entregador atual se a distância acumulada ainda for menor ou igual a 10 km\n",
        "        # e o entregador ainda não tiver 5 pedidos\n",
        "        entregador_atual.append(indice_pedido)\n",
        "        distancia_acumulada += distancia\n",
        "        indice_pedido += 1\n",
        "    else:\n",
        "        # Se as condições acima não forem atendidas, encerramos o entregador atual e começamos um novo\n",
        "        entregadores.append(entregador_atual)\n",
        "        entregador_atual = []\n",
        "        distancia_acumulada = 0\n",
        "\n",
        "# Adicionando o entregador atual à lista de entregadores, caso não esteja vazia\n",
        "if entregador_atual:\n",
        "    entregadores.append(entregador_atual)\n",
        "\n",
        "# Exibe os índices dos pedidos atribuídos a cada entregador\n",
        "entregador_numero = 1\n",
        "for entregador in entregadores:\n",
        "    print(f\"Entregador {entregador_numero}: {entregador}\")\n",
        "    entregador_numero += 1"
      ],
      "metadata": {
        "colab": {
          "base_uri": "https://localhost:8080/"
        },
        "id": "LzxB4-nItLPq",
        "outputId": "31811ef0-a0b1-4813-bc63-0a8baf881df0"
      },
      "execution_count": null,
      "outputs": [
        {
          "output_type": "stream",
          "name": "stdout",
          "text": [
            "Entregador 1: [0]\n",
            "Entregador 2: [1, 2]\n",
            "Entregador 3: [3, 4]\n",
            "Entregador 4: [5]\n",
            "Entregador 5: [6]\n",
            "Entregador 6: [7, 8]\n",
            "Entregador 7: [9]\n"
          ]
        }
      ]
    }
  ]
}