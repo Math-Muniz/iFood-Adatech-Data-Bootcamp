{
 "cells": [
  {
   "cell_type": "markdown",
   "metadata": {},
   "source": [
    "Resolva de forma mais eficiente e sucinta usando listas e/ou tuplas:\n",
    "\n",
    "> Faça um programa que olhe todos os itens de uma lista e diga quantos deles são pares."
   ]
  },
  {
   "cell_type": "code",
   "execution_count": 31,
   "metadata": {},
   "outputs": [
    {
     "name": "stdout",
     "output_type": "stream",
     "text": [
      "Quantidade de números pares: 4\n"
     ]
    }
   ],
   "source": [
    "#Lista padrão\n",
    "lista1 = [1,2,3,4,5,6,8]\n",
    "\n",
    "# Primeiro uso o lambda para ver os pares da lista1 em True e False\n",
    "# Depois uso o filter para pegar somente os valores True que são os pares\n",
    "# Por ultimo transformo em uma lista e pego o tamanho da lista que vão ser quantos são pares (quantos são True)\n",
    "pares = len(list(filter(lambda x: x % 2 == 0, lista1)))\n",
    "\n",
    "\n",
    "# Imprime a quantidade de números pares\n",
    "print(\"Quantidade de números pares:\",pares)"
   ]
  },
  {
   "cell_type": "markdown",
   "metadata": {},
   "source": [
    "> Faça um programa que imprima o maior número de uma lista, sem usar o método max()"
   ]
  },
  {
   "cell_type": "code",
   "execution_count": 32,
   "metadata": {},
   "outputs": [
    {
     "name": "stdout",
     "output_type": "stream",
     "text": [
      "O maior número na lista é: 6\n"
     ]
    }
   ],
   "source": [
    "#Lista padrão\n",
    "lista1 = [1,2,3,4,5,6]\n",
    "\n",
    "# Ordena a lista em ordem decrescente\n",
    "decrescente = sorted(lista1, reverse=True)\n",
    "\n",
    "# Pega o primeiro elemento da lista que vai ser o maior pois ela esta decrescente\n",
    "maior_numero = decrescente[0]\n",
    "\n",
    "# Imprime o maior número\n",
    "print(\"O maior número na lista é:\", maior_numero)"
   ]
  },
  {
   "cell_type": "markdown",
   "metadata": {},
   "source": [
    "> Faça um Programa que peça as 4 notas bimestrais e mostre a média, usando listas."
   ]
  },
  {
   "cell_type": "code",
   "execution_count": 34,
   "metadata": {},
   "outputs": [
    {
     "name": "stdout",
     "output_type": "stream",
     "text": [
      "Média das notas bimestrais: 6.5\n"
     ]
    }
   ],
   "source": [
    "# Lista para salvarmos as notas\n",
    "notas = []\n",
    "\n",
    "# Solicita as notas até 4 notas\n",
    "for i in range(4):\n",
    "    nota = float(input(f\"Digite a nota do {i+1}º bimestre: \"))\n",
    "    # Adiciona os valores do input na nossa lista notas\n",
    "    notas.append(nota)\n",
    "\n",
    "# Calcula a média das notas, saudades função mean\n",
    "media = sum(notas)/len(notas)\n",
    "\n",
    "# Imprime a média\n",
    "print(\"Média das notas bimestrais:\", media)"
   ]
  },
  {
   "cell_type": "markdown",
   "metadata": {},
   "source": [
    "> Considere que temos uma lista com os nomes de todos os alunos de uma turma, e outra com as notas, na mesma ordem. Como faríamos para acessar, simultaneamente, o nome de um aluno e a sua nota?"
   ]
  },
  {
   "cell_type": "code",
   "execution_count": 38,
   "metadata": {},
   "outputs": [
    {
     "name": "stdout",
     "output_type": "stream",
     "text": [
      "Aluno: Luiz, Nota: 5.5\n",
      "Aluno: Felipe, Nota: 7\n",
      "Aluno: Amanda, Nota: 6\n",
      "Aluno: Ana, Nota: 9\n",
      "Aluno: Matheus, Nota: 10\n"
     ]
    }
   ],
   "source": [
    "# Lista com os nomes de todos os alunos\n",
    "nomes_alunos = ['Luiz', 'Felipe', 'Amanda', 'Ana', 'Matheus']\n",
    "# Lista com as notas dos alunos acima\n",
    "notas_alunos = [5.5, 7, 6, 9, 10]\n",
    "\n",
    "# Usando zip para combinar uma lista com a outra\n",
    "for nomes, notas in zip(nomes_alunos, notas_alunos):\n",
    "    print(f\"Aluno: {nomes}, Nota: {notas}\")\n"
   ]
  },
  {
   "cell_type": "markdown",
   "metadata": {},
   "source": [
    "> Para que a entrega de alimentos seja feita com qualidade por um serviço de delivery, é muito importante que as caixas de transporte utilizadas por entregadores tenham um revestimento térmico interno, para manter a temperatura dos alimentos. Muitos destes revestimentos são importados de países que utilizam diferentes escalas de temperatura, de modo que as especificações quanto às temperaturas de operação podem gerar confusão.\n",
    "\n",
    "Pensando nisso, escreva um código em Python que recebe um número (que possa ter casas decimais) e a escala de temperatura em que este valor se encontra e para qual ele deseja converter (Celsius, Kelvin ou Fahrenheit). Tanto na escala em que se encontra quanto para a que deseja converter, utilize as letras iniciais como entrada: Celsius - 'C', Kelvin - 'K' ou Fahrenheit - 'F'.\n",
    "\n",
    "Importante: o programa deve trabalhar apenas com as 3 escalas supracitadas! Então, não deixe de fazer as validações necessárias. Além disso, por definição, não existem temperaturas em Kelvin abaixo de zero (o valor zero pode existir), portanto verifique também esta condição para que sejam feitas conversões válidas!"
   ]
  },
  {
   "cell_type": "markdown",
   "metadata": {},
   "source": [
    "Abaixo está minha resolução do Coding Tank que não podia usar o map, nem o lambda, nem filter e etc..."
   ]
  },
  {
   "cell_type": "code",
   "execution_count": 39,
   "metadata": {},
   "outputs": [
    {
     "name": "stdout",
     "output_type": "stream",
     "text": [
      "A temperatura convertida é 107.60 F\n"
     ]
    }
   ],
   "source": [
    "# Solicita ao usuário a temperatura\n",
    "temperatura = float(input(\"Digite a temperatura: \"))\n",
    "# Solicita ao usuário em qual escala o dado está se está em Celsius, Kelvin ou Fahrenheit\n",
    "escala_original = input(\"Digite a escala original (C, K ou F): \").upper()\n",
    "# Solicita ao usuário para qual escala desejamos converter se é Celsius, Kelvin ou Fahrenheit\n",
    "escala_convertida = input(\"Digite a escala para a qual deseja converter (C, K ou F): \").upper()\n",
    "\n",
    "# Validar as escalas, primeiro vamos ver se a escala_original é igual a escala_convertida\n",
    "if escala_original == escala_convertida:\n",
    "    # Se a escala original e a escala de conversão forem as mesmas, a temperatura permanece então printamos a temperatura que o usuario digitou\n",
    "    resultado = temperatura\n",
    "# Se a escala_original for igual a Celsius\n",
    "elif escala_original == 'C':\n",
    "    if escala_convertida == 'K':\n",
    "        # Converter de Celsius para Kelvin: Celsius + 273.15\n",
    "        resultado = temperatura + 273.15\n",
    "    elif escala_convertida == 'F':\n",
    "        # Converter de Celsius para Fahrenheit: (Celsius * 9/5) + 32\n",
    "        resultado = (temperatura * 9/5) + 32\n",
    "# Se a escala_original for igual a Kelvin\n",
    "elif escala_original == 'K':\n",
    "    if escala_convertida == 'C':\n",
    "        # Converter de Kelvin para Celsius: Kelvin - 273.15\n",
    "        resultado = temperatura - 273.15\n",
    "    elif escala_convertida == 'F':\n",
    "        # Converter de Kelvin para Fahrenheit: ((Kelvin - 273.15) * 9/5) + 32\n",
    "        resultado = ((temperatura - 273.15) * 9/5) + 32\n",
    "# Se a escala_original for igual a Fahrenheit\n",
    "elif escala_original == 'F':\n",
    "    if escala_convertida == 'C':\n",
    "        # Converter de Fahrenheit para Celsius: (Fahrenheit - 32) * 5/9\n",
    "        resultado = (temperatura - 32) * 5/9\n",
    "    elif escala_convertida == 'K':\n",
    "        # Converter de Fahrenheit para Kelvin: ((Fahrenheit - 32) * 5/9) + 273.15\n",
    "        resultado = ((temperatura - 32) * 5/9) + 273.15\n",
    "else:\n",
    "    resultado = \"Conversão não suportada\"\n",
    "\n",
    "# Agora exibiremos o resultado colocamos duas formas de print com int() e a outra caso o valor tenha '.'\n",
    "if resultado == int(resultado):\n",
    "    print(f\"A temperatura convertida é {int(resultado)} {escala_convertida}\")\n",
    "else:\n",
    "    print(f\"A temperatura convertida é {resultado:.2f} {escala_convertida}\")"
   ]
  },
  {
   "cell_type": "markdown",
   "metadata": {},
   "source": [
    "Meu novo código após os dois modulos do curso:"
   ]
  },
  {
   "cell_type": "code",
   "execution_count": 47,
   "metadata": {},
   "outputs": [
    {
     "name": "stdout",
     "output_type": "stream",
     "text": [
      "A temperatura convertida é 278.71 K\n"
     ]
    }
   ],
   "source": [
    "# Solicita ao usuário a temperatura\n",
    "temperatura = float(input(\"Digite a temperatura: \"))\n",
    "# Solicita ao usuário em qual escala o dado está se está em Celsius, Kelvin ou Fahrenheit\n",
    "escala_original = input(\"Digite a escala original (C, K ou F): \").upper()\n",
    "# Solicita ao usuário para qual escala desejamos converter se é Celsius, Kelvin ou Fahrenheit\n",
    "escala_convertida = input(\"Digite a escala para a qual deseja converter (C, K ou F): \").upper()\n",
    "\n",
    "# Usando as funções para criar as formulas\n",
    "#Usei a função max para se o celsius for -300 por exemplo ele retornar kelvin = 0\n",
    "def celsius_to_kelvin(x):\n",
    "    return max(x + 273.15, 0)\n",
    "\n",
    "def celsius_to_fahrenheit(x):\n",
    "    return (x * 9/5) + 32\n",
    "\n",
    "def kelvin_to_celsius(x):\n",
    "    return x - 273.15\n",
    "\n",
    "def kelvin_to_fahrenheit(x):\n",
    "    return (x - 273.15) * 9/5 + 32\n",
    "\n",
    "def fahrenheit_to_celsius(x):\n",
    "    return (x - 32) * 5/9\n",
    "\n",
    "#Usei a função max para se o fahrenheit for -2000 por exemplo ele retornar kelvin = 0\n",
    "def fahrenheit_to_kelvin(x):\n",
    "    return max((x - 32) * 5/9 + 273.15, 0)\n",
    "\n",
    "#Usando o map para mapear as formulas para cada par\n",
    "formulas = {\n",
    "    ('C', 'K'): celsius_to_kelvin,\n",
    "    ('C', 'F'): celsius_to_fahrenheit,\n",
    "    ('K', 'C'): kelvin_to_celsius,\n",
    "    ('K', 'F'): kelvin_to_fahrenheit,\n",
    "    ('F', 'C'): fahrenheit_to_celsius,\n",
    "    ('F', 'K'): fahrenheit_to_kelvin\n",
    "}\n",
    "\n",
    "# Valida se as escalas são suportadas e calcula o resultado\n",
    "# Variavel para armazenar os resultados da conversão\n",
    "resultado = None\n",
    "# Se a escala original for igual a convertida, não há necessidade de conversão\n",
    "if escala_original == escala_convertida:\n",
    "    resultado = temperatura\n",
    "# Verifica se as escalas tanto a original tanto a convertida estão no nosso map de formulas\n",
    "elif (escala_original, escala_convertida) in formulas:\n",
    "    #se as escalas forem suportadas nos convertemos para o calculo do resultado\n",
    "    resultado = formulas[(escala_original, escala_convertida)](temperatura)\n",
    "\n",
    "# Verificamos se o resultado foi calculado ou não\n",
    "if resultado is not None:\n",
    "    # Exibe nosso resultado como inteiro caso ele seja inteiro, caso não seja exibe em até 2 casas decimais e exibimos qual escala ele foi convertido\n",
    "    print(f\"A temperatura convertida é {int(resultado) if resultado == int(resultado) else resultado:.2f} {escala_convertida}\")\n",
    "else:\n",
    "    print(\"Conversão não suportada\")"
   ]
  }
 ],
 "metadata": {
  "kernelspec": {
   "display_name": "Python 3",
   "language": "python",
   "name": "python3"
  },
  "language_info": {
   "codemirror_mode": {
    "name": "ipython",
    "version": 3
   },
   "file_extension": ".py",
   "mimetype": "text/x-python",
   "name": "python",
   "nbconvert_exporter": "python",
   "pygments_lexer": "ipython3",
   "version": "3.11.4"
  }
 },
 "nbformat": 4,
 "nbformat_minor": 2
}
